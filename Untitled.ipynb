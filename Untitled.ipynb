{
 "cells": [
  {
   "cell_type": "code",
   "execution_count": 17,
   "metadata": {},
   "outputs": [
    {
     "name": "stdout",
     "output_type": "stream",
     "text": [
      "Enter decimal number: 35\n",
      "In binary format:  100011\n"
     ]
    }
   ],
   "source": [
    "number = int(input('Enter decimal number: '))\n",
    "temp = ''\n",
    "while True:\n",
    "    if number > 0:\n",
    "        temp += str(number % 2)\n",
    "        number = number // 2\n",
    "    else:\n",
    "        break\n",
    "result = ''\n",
    "for i in range(len(temp)-1, -1, -1):\n",
    "    result += temp[i]\n",
    "print('In binary format: ', result)"
   ]
  },
  {
   "cell_type": "code",
   "execution_count": null,
   "metadata": {},
   "outputs": [],
   "source": []
  }
 ],
 "metadata": {
  "kernelspec": {
   "display_name": "Python 3",
   "language": "python",
   "name": "python3"
  },
  "language_info": {
   "codemirror_mode": {
    "name": "ipython",
    "version": 3
   },
   "file_extension": ".py",
   "mimetype": "text/x-python",
   "name": "python",
   "nbconvert_exporter": "python",
   "pygments_lexer": "ipython3",
   "version": "3.7.4"
  }
 },
 "nbformat": 4,
 "nbformat_minor": 2
}
